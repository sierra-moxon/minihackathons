{
 "cells": [
  {
   "cell_type": "code",
   "execution_count": 31,
   "id": "28456ced",
   "metadata": {},
   "outputs": [],
   "source": [
    "# what genes interact with MEIS1 to contribute to 'restless leg syndrome'?\n",
    "# MONDO:0005391, NCIT:C84501, EFO:0004270, HP:0012452\n",
    "# does iron deficiency contributes to 'restless leg syndrome'? \n",
    "# PUBCHEM.COMPOUND:23925 - iron element or compound\n",
    "# CHEBI:18248 - iron atom\n",
    "# CHEBI:35136 - iron protein? \n",
    "# CHEBI:33356 - iron element group atom\n",
    "# CHEBI:24873 - iron molecular entity\n",
    "# what variants of MEIS1 contribute to 'restless leg syndrome'?\n",
    "# what drugs target iron deficiency?\n",
    "\n",
    "# see how many ARAs can return MEIS1 with various identifiers - hopefully equivalent results\n",
    "# HGNC:7000, OMIM:601739, NCBIGene:4211\n",
    "\n",
    "# what if someone searches for protein interactions of MEIS1?\n",
    "# n0 - MEIS1, n1 - category:['biolink:Protein']\n",
    "# UniProtKB:O00470\n",
    "\n",
    "# start with iron deficiency\n",
    "\n",
    "\n",
    "import json\n",
    "import requests\n",
    "from gamma_viewer import GammaViewer\n",
    "from IPython.display import display\n",
    "from pprint import pprint"
   ]
  },
  {
   "cell_type": "code",
   "execution_count": 32,
   "id": "1df03059",
   "metadata": {},
   "outputs": [],
   "source": [
    "def trapi_query(json_str, url):\n",
    "    try:\n",
    "        return requests.post(url,json=json.loads(json_str))\n",
    "    except:\n",
    "        raise"
   ]
  },
  {
   "cell_type": "code",
   "execution_count": 33,
   "id": "cf0c4081",
   "metadata": {},
   "outputs": [],
   "source": [
    "def query_ara_debug(aras, jstr):\n",
    "    results = []\n",
    "    count = 0\n",
    "    for ara in aras:\n",
    "        r = trapi_query(jstr,ara)\n",
    "        j = r.json()\n",
    "        pprint(r.json())\n",
    "        edges = j['message']['knowledge_graph']['edges']\n",
    "        \n",
    "        for edge_key in edges.keys():\n",
    "            edge = edges.get(edge_key)\n",
    "            result = {'curie': edge.get('object'), 'predicate': edge.get('predicate'), 'pValue': edge.get('attributes')[0].get('value')}\n",
    "            results.append(edge.get('subject') + \" \" + edge.get('predicate') + \" \" + edge.get('object'))\n",
    "            count = count + 1\n",
    "    return results, count;"
   ]
  },
  {
   "cell_type": "code",
   "execution_count": 34,
   "id": "a0c81ae4",
   "metadata": {},
   "outputs": [],
   "source": [
    "def query_ara(aras, jstr):\n",
    "    results = []\n",
    "    count = 0\n",
    "    for ara in aras:\n",
    "        r = trapi_query(jstr,ara)\n",
    "        j = r.json()\n",
    "        edges = j['message']['knowledge_graph']['edges']\n",
    "        \n",
    "        for edge_key in edges.keys():\n",
    "            edge = edges.get(edge_key)\n",
    "            result = {'curie': edge.get('object'), 'predicate': edge.get('predicate'), 'pValue': edge.get('attributes')[0].get('value')}\n",
    "            results.append(edge.get('subject') + \" \" + edge.get('predicate') + \" \" + edge.get('object'))\n",
    "            count = count + 1\n",
    "    return results, count;"
   ]
  },
  {
   "cell_type": "code",
   "execution_count": 55,
   "id": "2e6c5ddb",
   "metadata": {},
   "outputs": [],
   "source": [
    "jstr_n = \"\"\"\n",
    "{\n",
    "  \"message\": {\n",
    "    \"query_graph\": \n",
    "{\n",
    "  \"nodes\": {\n",
    "    \"n0\": {\n",
    "      \"id\": \"NCBIGene:4211\",\n",
    "      \"category\": [\"biolink:Gene\"]\n",
    "    },\n",
    "    \"n1\": {\n",
    "      \"id\":\"MONDO:0005391\",\n",
    "      \"category\": [\n",
    "        \"biolink:Disease\"\n",
    "      ]\n",
    "    },\n",
    "    \"n2\": {\n",
    "        \"category\": [\"biolink:Gene\"]\n",
    "    }\n",
    "  },\n",
    "  \"edges\": {\n",
    "    \"e0\": {\n",
    "      \"subject\": \"n0\",\n",
    "      \"object\": \"n1\"\n",
    "    },\n",
    "    \"e1\": {\n",
    "        \"predicate\":\"biolink:related_to\"\n",
    "    }\n",
    "  }\n",
    "}\n",
    "}\n",
    "}\n",
    "\n",
    "\"\"\"\n",
    "\n",
    "# https://strider.renci.org/query strider\n",
    "# https://evidara.healthdatascience.cloud/api/v1/query improvingAgent\n",
    "# https://smart-api.info/query OpenAPI for NCATS Biomedical Translator\n",
    "# https://explanatory-agent.azurewebsites.net/v1.0/query/ Explanatory Agent\n",
    "# https://arax.ncats.io/api/arax/v1.0/query ARAX\n",
    "# https://api.bte.ncats.io/v1/query BTE\n",
    "# https://aragorn.renci.org/query ARAGORN\n",
    "\n"
   ]
  },
  {
   "cell_type": "code",
   "execution_count": 36,
   "id": "d83c04d9",
   "metadata": {},
   "outputs": [
    {
     "name": "stdout",
     "output_type": "stream",
     "text": [
      "fail JSONDecode error 405\n"
     ]
    }
   ],
   "source": [
    "aras_smart = ['https://smart-api.info/query']\n",
    "\n",
    "try:\n",
    "    resultssm_n, countersm_n = query_ara_debug(aras_smart, jstr_n)\n",
    "    print (\"count of results: %\", countersm_n)\n",
    "    pprint(resultssm_n)\n",
    "except KeyError:\n",
    "    print('fail, no results')\n",
    "except:\n",
    "    print('fail JSONDecode error 405')\n"
   ]
  },
  {
   "cell_type": "code",
   "execution_count": 56,
   "id": "cc7aeb6b",
   "metadata": {},
   "outputs": [
    {
     "name": "stdout",
     "output_type": "stream",
     "text": [
      "{'description': 'Unsupported query.',\n",
      " 'logs': [],\n",
      " 'message': {'knowledge_graph': {'edges': {}, 'nodes': {}},\n",
      "             'query_graph': {'edges': {'e0': {'object': 'n1', 'subject': 'n0'}},\n",
      "                             'nodes': {'n0': {'category': ['biolink:Gene'],\n",
      "                                              'id': 'NCBIGene:4211'},\n",
      "                                       'n1': {'category': ['biolink:Disease'],\n",
      "                                              'id': 'MONDO:0005391'}}},\n",
      "             'results': []},\n",
      " 'status': 'Unsupported'}\n",
      "count of results: % 0\n",
      "[]\n"
     ]
    }
   ],
   "source": [
    "aras_exp = ['https://explanatory-agent.azurewebsites.net/v1.0/query/']\n",
    "\n",
    "try:\n",
    "    resultse_n, countere_n = query_ara_debug(aras_exp, jstr_n)\n",
    "    print (\"count of results: %\", countere_n)\n",
    "    pprint(resultse_n)\n",
    "except KeyError:\n",
    "    print('fail, no results')\n",
    "except:\n",
    "    raise\n"
   ]
  },
  {
   "cell_type": "code",
   "execution_count": 57,
   "id": "6866730d",
   "metadata": {
    "scrolled": false
   },
   "outputs": [
    {
     "name": "stdout",
     "output_type": "stream",
     "text": [
      "count of results: % 0\n",
      "[]\n"
     ]
    }
   ],
   "source": [
    "aras_strider = ['https://strider.renci.org/query']\n",
    "\n",
    "# diabetes\n",
    "# chronic kidney disease\n",
    "# coronary artery disease\n",
    "# insomnia  <-- close\n",
    "\n",
    "try:\n",
    "    resultss_n, counters_n = query_ara(aras_strider, jstr_n)\n",
    "    print (\"count of results: %\", counters_n)\n",
    "    pprint(resultss_n)\n",
    "except KeyError:\n",
    "    print('fail, no results')\n",
    "except:\n",
    "    raise\n"
   ]
  },
  {
   "cell_type": "code",
   "execution_count": 58,
   "id": "2d21fe58",
   "metadata": {
    "scrolled": false
   },
   "outputs": [
    {
     "name": "stdout",
     "output_type": "stream",
     "text": [
      "count of results: % 139\n",
      "['NCBIGene:4211 biolink:related_to UMLS:C4049938',\n",
      " 'NCBIGene:4211 biolink:related_to UMLS:C4086165',\n",
      " 'NCBIGene:4211 biolink:related_to UMLS:C1762616',\n",
      " 'NCBIGene:4211 biolink:related_to OMIM:607276',\n",
      " 'NCBIGene:4211 biolink:related_to UMLS:C2004493',\n",
      " 'NCBIGene:4211 biolink:related_to OMIM:159555',\n",
      " 'NCBIGene:4211 biolink:related_to UMLS:C3900098',\n",
      " 'NCBIGene:4211 biolink:related_to UMLS:C4054727',\n",
      " 'NCBIGene:4211 biolink:related_to UMLS:C1257931',\n",
      " 'NCBIGene:4211 biolink:related_to UMLS:C1269955',\n",
      " 'NCBIGene:4211 biolink:related_to UMLS:C1301034',\n",
      " 'NCBIGene:4211 biolink:related_to UMLS:C1306459',\n",
      " 'NCBIGene:4211 biolink:related_to UMLS:C0008810',\n",
      " 'NCBIGene:4211 biolink:related_to UMLS:C0030193',\n",
      " 'NCBIGene:4211 biolink:related_to UMLS:C0871470',\n",
      " 'NCBIGene:4211 biolink:related_to MONDO:0004643',\n",
      " 'NCBIGene:4211 biolink:related_to MONDO:0005159',\n",
      " 'NCBIGene:4211 biolink:related_to UMLS:C0751249',\n",
      " 'NCBIGene:4211 biolink:related_to UMLS:C0751250',\n",
      " 'NCBIGene:4211 biolink:related_to UMLS:C0751251',\n",
      " 'NCBIGene:4211 biolink:related_to MONDO:0004375',\n",
      " 'NCBIGene:4211 biolink:related_to MONDO:0003541',\n",
      " 'NCBIGene:4211 biolink:related_to MONDO:0004967',\n",
      " 'NCBIGene:4211 biolink:related_to UMLS:C0598766',\n",
      " 'NCBIGene:4211 biolink:related_to UMLS:C0700201',\n",
      " 'NCBIGene:4211 biolink:related_to UMLS:C0085281',\n",
      " 'NCBIGene:4211 biolink:related_to MONDO:0044917',\n",
      " 'NCBIGene:4211 biolink:related_to UMLS:C0393759',\n",
      " 'NCBIGene:4211 biolink:related_to UMLS:C0424574',\n",
      " 'NCBIGene:4211 biolink:related_to UMLS:C0429087',\n",
      " 'NCBIGene:4211 biolink:related_to UMLS:C0392885',\n",
      " 'NCBIGene:4211 biolink:related_to MONDO:0002794',\n",
      " 'NCBIGene:4211 biolink:related_to MONDO:0002797',\n",
      " 'NCBIGene:4211 biolink:related_to UMLS:C4704874',\n",
      " 'NCBIGene:4211 biolink:related_to UMLS:C0751252',\n",
      " 'NCBIGene:4211 biolink:related_to UMLS:C0027627',\n",
      " 'NCBIGene:4211 biolink:related_to UMLS:C0037317',\n",
      " 'NCBIGene:4211 biolink:related_to UMLS:C0042798',\n",
      " 'NCBIGene:4211 biolink:related_to UMLS:C0033139',\n",
      " 'NCBIGene:4211 biolink:related_to UMLS:C0202236',\n",
      " 'NCBIGene:4211 biolink:related_to UMLS:C0205682',\n",
      " 'NCBIGene:4211 biolink:related_to MONDO:0018874',\n",
      " 'NCBIGene:4211 biolink:related_to MONDO:0002050',\n",
      " 'NCBIGene:4211 biolink:related_to UMLS:C0344315',\n",
      " 'NCBIGene:4211 biolink:related_to MONDO:0000839',\n",
      " 'NCBIGene:4211 biolink:related_to MONDO:0000870',\n",
      " 'NCBIGene:4211 biolink:related_to MONDO:0100081',\n",
      " 'NCBIGene:4211 biolink:related_to UMLS:C0541798',\n",
      " 'NCBIGene:4211 biolink:related_to UMLS:C0596263',\n",
      " 'NCBIGene:4211 biolink:related_to MONDO:0044873',\n",
      " 'NCBIGene:4211 biolink:related_to UMLS:C0270541',\n",
      " 'NCBIGene:4211 biolink:related_to UMLS:C0349255',\n",
      " 'NCBIGene:4211 biolink:related_to UMLS:C0278877',\n",
      " 'NCBIGene:4211 biolink:related_to MONDO:0004992',\n",
      " 'NCBIGene:4211 biolink:related_to MONDO:0005580',\n",
      " 'NCBIGene:4211 biolink:related_to MONDO:0005905',\n",
      " 'NCBIGene:4211 biolink:related_to MONDO:0019040',\n",
      " 'NCBIGene:4211 biolink:related_to MONDO:0021100',\n",
      " 'NCBIGene:4211 biolink:related_to MONDO:0021129',\n",
      " 'NCBIGene:4211 biolink:related_to MONDO:0011010',\n",
      " 'NCBIGene:4211 biolink:related_to MONDO:0012883',\n",
      " 'NCBIGene:4211 biolink:related_to MONDO:0013600',\n",
      " 'NCBIGene:4211 biolink:related_to UMLS:C0700095',\n",
      " 'NCBIGene:4211 biolink:related_to MONDO:0004355',\n",
      " 'NCBIGene:4211 biolink:related_to MONDO:0004989',\n",
      " 'NCBIGene:4211 biolink:related_to MONDO:0005072',\n",
      " 'NCBIGene:4211 biolink:related_to MONDO:0005105',\n",
      " 'NCBIGene:4211 biolink:related_to MONDO:0005249',\n",
      " 'NCBIGene:4211 biolink:related_to MONDO:0016011',\n",
      " 'NCBIGene:4211 biolink:related_to MONDO:0019004',\n",
      " 'NCBIGene:4211 biolink:related_to MONDO:0005401',\n",
      " 'NCBIGene:4211 biolink:related_to MONDO:0005626',\n",
      " 'NCBIGene:4211 biolink:related_to MONDO:0007661',\n",
      " 'NCBIGene:4211 biolink:related_to MONDO:0007959',\n",
      " 'NCBIGene:4211 biolink:related_to MONDO:0005059',\n",
      " 'NCBIGene:4211 biolink:related_to MONDO:0005070',\n",
      " 'NCBIGene:4211 biolink:related_to MONDO:0005133',\n",
      " 'NCBIGene:4211 biolink:related_to MONDO:0005287',\n",
      " 'NCBIGene:4211 biolink:related_to MONDO:0005391',\n",
      " 'NCBIGene:4211 biolink:related_to MONDO:0024331',\n",
      " 'NCBIGene:4211 biolink:affects MONDO:0005059',\n",
      " 'NCBIGene:4211 biolink:affects MONDO:0018874',\n",
      " 'NCBIGene:4211 biolink:affects MONDO:0005070',\n",
      " 'NCBIGene:4211 biolink:affects UMLS:C0699748',\n",
      " 'NCBIGene:4211 biolink:causes MONDO:0004992',\n",
      " 'NCBIGene:4211 biolink:causes MONDO:0005453',\n",
      " 'NCBIGene:4211 biolink:causes MONDO:0005059',\n",
      " 'NCBIGene:4211 biolink:causes MONDO:0018874',\n",
      " 'NCBIGene:4211 biolink:causes MONDO:0004643',\n",
      " 'NCBIGene:4211 biolink:causes MONDO:0005070',\n",
      " 'NCBIGene:4211 biolink:causes UMLS:C0085281',\n",
      " 'NCBIGene:4211 biolink:causes UMLS:C0151686',\n",
      " 'NCBIGene:4211 biolink:causes UMLS:C0242606',\n",
      " 'NCBIGene:4211 biolink:causes UMLS:C0598766',\n",
      " 'NCBIGene:4211 biolink:causes MONDO:0010643',\n",
      " 'NCBIGene:4211 biolink:causes UMLS:C1519697',\n",
      " 'NCBIGene:4211 biolink:related_to MONDO:0002602',\n",
      " 'NCBIGene:4211 biolink:related_to MONDO:0005170',\n",
      " 'NCBIGene:4211 biolink:related_to MONDO:0000001',\n",
      " 'NCBIGene:4211 biolink:related_to MONDO:0005267',\n",
      " 'NCBIGene:4211 biolink:related_to MONDO:0002280',\n",
      " 'NCBIGene:4211 biolink:related_to MONDO:0005062',\n",
      " 'NCBIGene:4211 biolink:related_to MONDO:0007254',\n",
      " 'NCBIGene:4211 biolink:related_to MONDO:0005560',\n",
      " 'NCBIGene:4211 biolink:related_to MONDO:0005071',\n",
      " 'NCBIGene:4211 biolink:related_to MONDO:0018881',\n",
      " 'NCBIGene:4211 biolink:related_to MONDO:0000992',\n",
      " 'NCBIGene:4211 biolink:related_to MONDO:0004995',\n",
      " 'NCBIGene:4211 biolink:related_to MONDO:0003406',\n",
      " 'NCBIGene:4211 biolink:related_to MONDO:0008315',\n",
      " 'NCBIGene:4211 biolink:related_to MONDO:0004993',\n",
      " 'NCBIGene:4211 biolink:related_to MONDO:0021199',\n",
      " 'NCBIGene:4211 biolink:gene_associated_with_condition MONDO:0007254',\n",
      " 'NCBIGene:4211 biolink:gene_associated_with_condition MONDO:0002334',\n",
      " 'NCBIGene:4211 biolink:gene_associated_with_condition MONDO:0005391',\n",
      " 'NCBIGene:4211 biolink:gene_associated_with_condition UMLS:C0349255',\n",
      " 'NCBIGene:4211 biolink:gene_associated_with_condition MONDO:0004989',\n",
      " 'NCBIGene:4211 biolink:gene_associated_with_condition MONDO:0004993',\n",
      " 'NCBIGene:4211 biolink:gene_associated_with_condition MONDO:0000992',\n",
      " 'NCBIGene:4211 biolink:gene_associated_with_condition UMLS:C0751249',\n",
      " 'NCBIGene:4211 biolink:gene_associated_with_condition MONDO:0013600',\n",
      " 'NCBIGene:4211 biolink:gene_associated_with_condition MONDO:0005059',\n",
      " 'NCBIGene:4211 biolink:gene_associated_with_condition MONDO:0003185',\n",
      " 'NCBIGene:4211 biolink:gene_associated_with_condition UMLS:C0541798',\n",
      " 'NCBIGene:4211 biolink:gene_associated_with_condition MONDO:0021100',\n",
      " 'NCBIGene:4211 biolink:disrupts MONDO:0024331',\n",
      " 'NCBIGene:4211 biolink:prevents MONDO:0005070',\n",
      " 'NCBIGene:4211 biolink:related_to MONDO:0019471',\n",
      " 'NCBIGene:4211 biolink:related_to MONDO:0010643',\n",
      " 'NCBIGene:4211 biolink:related_to MONDO:0005277',\n",
      " 'NCBIGene:4211 biolink:related_to UMLS:C0858952',\n",
      " 'NCBIGene:4211 biolink:related_to UMLS:C1457887',\n",
      " 'NCBIGene:4211 biolink:related_to UMLS:C0699748',\n",
      " 'NCBIGene:4211 biolink:treats MONDO:0004992',\n",
      " 'NCBIGene:4211 biolink:treats MONDO:0004995',\n",
      " 'NCBIGene:4211 biolink:treats MONDO:0005059',\n",
      " 'NCBIGene:4211 biolink:treats MONDO:0005391',\n",
      " 'NCBIGene:4211 biolink:treats UMLS:C0598766',\n",
      " 'NCBIGene:4211 biolink:treats UMLS:C0746730']\n"
     ]
    }
   ],
   "source": [
    "aras_bte = ['https://api.bte.ncats.io/v1/query']\n",
    "\n",
    "# Physical Activity Measurement UMLS:C4049938\n",
    "# Childhood Neuroblastoma UMLS:C4086165\n",
    "# Variation in resting heart rate OMIM:607276\n",
    "# MONDO:0005391\n",
    "\n",
    "try:\n",
    "    resultsb_n, counterb_n = query_ara(aras_bte, jstr_n)\n",
    "    print (\"count of results: %\", counterb_n)\n",
    "    pprint(resultsb_n)\n",
    "except KeyError:\n",
    "    print('fail, no results')\n",
    "except:\n",
    "    raise\n"
   ]
  },
  {
   "cell_type": "code",
   "execution_count": 59,
   "id": "8600b30c",
   "metadata": {
    "scrolled": false
   },
   "outputs": [
    {
     "name": "stdout",
     "output_type": "stream",
     "text": [
      "count of results: % 1\n",
      "['UniProtKB:O00470 biolink:correlated_with MONDO:0005391']\n"
     ]
    }
   ],
   "source": [
    "aras_arax = ['https://arax.ncats.io/api/arax/v1.0/query']\n",
    "\n",
    "# MONDO:0005391\n",
    "# 'UniProtKB:O00470 biolink:regulates MONDO:0000193', cortisone reductase deficiency \n",
    "\n",
    "try:\n",
    "    resultsx_n, counterx_n = query_ara(aras_arax, jstr_n)\n",
    "    print (\"count of results: %\", counterx_n)\n",
    "    pprint(resultsx_n)\n",
    "except KeyError:\n",
    "    print('no results')\n",
    "except:\n",
    "    raise\n",
    "\n"
   ]
  },
  {
   "cell_type": "code",
   "execution_count": 52,
   "id": "776a822c",
   "metadata": {
    "scrolled": true
   },
   "outputs": [
    {
     "name": "stdout",
     "output_type": "stream",
     "text": [
      "{'error': 'Error detected. Got an empty result from strider, aborting.',\n",
      " 'message': {'query_graph': {'edges': {'e0': {'object': 'n1', 'subject': 'n0'}},\n",
      "                             'nodes': {'n0': {'category': ['biolink:Gene'],\n",
      "                                              'id': 'NCBIGene:4211',\n",
      "                                              'is_set': False},\n",
      "                                       'n1': {'category': ['biolink:Disease'],\n",
      "                                              'id': 'MONDO:0005391',\n",
      "                                              'is_set': False},\n",
      "                                       'n2': {'category': ['biolink:Pathway'],\n",
      "                                              'is_set': False},\n",
      "                                       'n3': {'category': ['biolink:Gene'],\n",
      "                                              'is_set': False}}}}}\n",
      "no results\n"
     ]
    }
   ],
   "source": [
    "aras_aragorn = ['https://aragorn.renci.org/query']\n",
    "\n",
    "# no MONDO:0005391\n",
    "# 'MONDO:0005148 biolink:has_phenotype MONDO:0005542' \n",
    "#  - type 2 diabetes mellitus has phenotype acute coronary syndrome\n",
    "# 'PUBCHEM.COMPOUND:5352425 biolink:contributes_to MONDO:0005148',\n",
    "#  - lead contributes to type 2 diabetes mellitus\n",
    "\n",
    "try:\n",
    "    resultsag_n, counterag_n = query_ara_debug(aras_aragorn, jstr_n)\n",
    "    print (\"count of results: %\", counterag_n)\n",
    "    pprint(resultsag_n)\n",
    "except KeyError:\n",
    "    print('no results')\n",
    "except:\n",
    "    raise\n"
   ]
  },
  {
   "cell_type": "code",
   "execution_count": 61,
   "id": "c2702ce5",
   "metadata": {
    "scrolled": true
   },
   "outputs": [
    {
     "name": "stdout",
     "output_type": "stream",
     "text": [
      "count of results: % 1\n",
      "['MONDO:0005391 biolink:condition_associated_with_gene NCBIGene:4211']\n"
     ]
    }
   ],
   "source": [
    "aras_improving = ['https://evidara.healthdatascience.cloud/api/v1/query']\n",
    "try:\n",
    "    resultsi_n, countersi_n = query_ara(aras_improving, jstr_n)\n",
    "    print (\"count of results: %\", countersi_n)\n",
    "    pprint(resultsi_n)\n",
    "except KeyError:\n",
    "    print('no results')\n",
    "except:\n",
    "    raise\n"
   ]
  },
  {
   "cell_type": "code",
   "execution_count": null,
   "id": "61178298",
   "metadata": {},
   "outputs": [],
   "source": []
  }
 ],
 "metadata": {
  "kernelspec": {
   "display_name": "Python 3",
   "language": "python",
   "name": "python3"
  },
  "language_info": {
   "codemirror_mode": {
    "name": "ipython",
    "version": 3
   },
   "file_extension": ".py",
   "mimetype": "text/x-python",
   "name": "python",
   "nbconvert_exporter": "python",
   "pygments_lexer": "ipython3",
   "version": "3.7.3"
  }
 },
 "nbformat": 4,
 "nbformat_minor": 5
}
